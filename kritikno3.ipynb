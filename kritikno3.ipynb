{
 "cells": [
  {
   "cell_type": "code",
   "execution_count": null,
   "id": "c92f1478-62ed-4b67-bec9-6232dafe1a6f",
   "metadata": {},
   "outputs": [],
   "source": [
    "import numpy as np \n",
    "\n",
    "f= lambda x: np.sin(x) \n",
    "c = np.pi/4\n",
    "E = 0.05\n",
    "\n",
    "delta_x = 10**-8\n",
    "\n",
    "def central_difference_derivative(x): \n",
    "    return (f(c+delta_x) - f(c-delta_x))/(2*delta_x) \n",
    "def linear_approximation(x): \n",
    "    return f(c) + central_difference_dervative(c)*(x-c) \n",
    "def absolute_error(x): \n",
    "    return abs(f(x)-linear_approximation)-E \n",
    "\n",
    "x1 = c - delta_x \n",
    "x2 = c + delta_x \n",
    "\n",
    "#findx1<c \n",
    "\n",
    "if abs(f(x1)-linear_apprximation(x1)) < E or abs(f(x1))-linear_approximation(x1)>E: \n",
    "    x1 -=dea"
   ]
  }
 ],
 "metadata": {
  "kernelspec": {
   "display_name": "Python 3 (ipykernel)",
   "language": "python",
   "name": "python3"
  },
  "language_info": {
   "codemirror_mode": {
    "name": "ipython",
    "version": 3
   },
   "file_extension": ".py",
   "mimetype": "text/x-python",
   "name": "python",
   "nbconvert_exporter": "python",
   "pygments_lexer": "ipython3",
   "version": "3.12.8"
  }
 },
 "nbformat": 4,
 "nbformat_minor": 5
}
