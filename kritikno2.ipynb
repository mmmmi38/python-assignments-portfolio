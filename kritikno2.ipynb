{
 "cells": [
  {
   "cell_type": "code",
   "execution_count": 3,
   "id": "4810a90b-5ec4-4c9a-adf5-968615dd525d",
   "metadata": {},
   "outputs": [
    {
     "ename": "SyntaxError",
     "evalue": "invalid syntax (3821376617.py, line 7)",
     "output_type": "error",
     "traceback": [
      "\u001b[0;36m  Cell \u001b[0;32mIn[3], line 7\u001b[0;36m\u001b[0m\n\u001b[0;31m    a = int(input \"please enter a number for a that is smaller than b\\n\")\u001b[0m\n\u001b[0m                  ^\u001b[0m\n\u001b[0;31mSyntaxError\u001b[0m\u001b[0;31m:\u001b[0m invalid syntax\n"
     ]
    }
   ],
   "source": [
    "import numpy as np \n",
    "\n",
    "a = int(input(\"enter number a\\n\")) \n",
    "b = int (input(\"enter number b\\n\"))\n",
    "\n",
    "while a > b: \n",
    "    a = int(input\"please enter a number for a that is smaller than b\\n\")\n",
    "    b = int(input\"please enter a number for b that is larger than a\\n\") \n",
    "\n",
    "def f1(x): \n",
    "    return(np.exp(x)+np.log(x))\n",
    "def f2(x): \n",
    "    return(np.arctan(x)-(x**2))\n",
    "def f3(x): \n",
    "    return(np.sin(x)/np.log(x))\n",
    "def f4(x): \n",
    "    return(np.long(np.cos(x)))\n",
    "def roots [f,a,b]: \n",
    "    x = np.linspace(a,b,3) \n",
    "    y = f(x) \n",
    "    if a == 0 \n",
    "        a = 0.000000001\n",
    "    if f(a)<= 0 <= f((a+b)/2) or f(a) >= 0 >= f((a+b)/2) or f((a+b)/2) <= 0 <= f(b) or f((a+b)/2) >=0 >= f(b): \n",
    "        for i in range(len(y))\n",
    "            if y y[i]< 0.000000001 and y[1]> -0.000000001: \n",
    "        if y[0]<0 and y[1]> 0 or y[0]>0 and y[1]<0: \n",
    "            return roots (f,a,(a+b)/2) \n",
    "        elif y[1]<0 and y[2] > 0 or y[0]>0 and y[2]<0: \n",
    "            return f, (a+b)/2, b \n",
    "    else: \n",
    "        return \"no roots\" \n",
    "else: return \"root cannot be determined by bisection method\\n\" + \"'\"\n",
    "\n",
    "choice = input (\"f1,f2,f3, or f4\\n\" "
   ]
  },
  {
   "cell_type": "code",
   "execution_count": null,
   "id": "d11c97bf-c9c5-4059-a49b-f5bbfab6dd21",
   "metadata": {},
   "outputs": [],
   "source": [
    "if (choice == \"f1\" or choice==\"1\") \n",
    "    print (roots(f1,a,b)) \n",
    "elif (choice == \"f2\" or choice =="
   ]
  }
 ],
 "metadata": {
  "kernelspec": {
   "display_name": "Python 3 (ipykernel)",
   "language": "python",
   "name": "python3"
  },
  "language_info": {
   "codemirror_mode": {
    "name": "ipython",
    "version": 3
   },
   "file_extension": ".py",
   "mimetype": "text/x-python",
   "name": "python",
   "nbconvert_exporter": "python",
   "pygments_lexer": "ipython3",
   "version": "3.12.8"
  }
 },
 "nbformat": 4,
 "nbformat_minor": 5
}
