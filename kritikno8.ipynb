{
 "cells": [
  {
   "cell_type": "code",
   "execution_count": 18,
   "id": "668a32a8-32af-4f67-8c29-b0163ea48069",
   "metadata": {},
   "outputs": [],
   "source": [
    "\n",
    "h=0.001\n",
    "import numpy as np \n",
    "import matplotlib.pyplot as plt \n",
    "def gradient_descent (x0, y0, f, grad_f, alpha, num_iterations): \n",
    "    x, y = x0, y0 #initial points \n",
    "    for i in range(num_iterations):\n",
    "# obtain the gradient of f at (x, y)\n",
    "        grad_x, grad_y = grad_function1(x,y) # YOUR CODE HERE\n",
    "# Update x and y by taking a step in the opposite direction of the gradient\n",
    "        x-=(alpha*grad_x)\n",
    "        y-=(alpha*grad_y)\n",
    "\n",
    "def function1(x,y): #some first function \n",
    "    return x**2 + y**2 \n",
    "def grad_function1(x,y):\n",
    "    grad_x = 2*x \n",
    "    grad_y = 2*y \n",
    "    return [grad_x, grad_y]\n"
   ]
  },
  {
   "cell_type": "code",
   "execution_count": 19,
   "id": "2e41e362-d775-423c-a0fe-170dc9add938",
   "metadata": {},
   "outputs": [],
   "source": [
    "#(x0, y0) = (−1, 1), α = 0.1, max iterations = 10. #(1)\n",
    "gradient_descent(-1, 1, function1, gradient_descent, 0.1, 10) \n"
   ]
  },
  {
   "cell_type": "code",
   "execution_count": 20,
   "id": "87818d98-c8cf-47e6-a089-2c433ac52f4e",
   "metadata": {},
   "outputs": [],
   "source": [
    "gradient_descent(-1, 1, function1, grad_function1, 0.01, 100)"
   ]
  },
  {
   "cell_type": "code",
   "execution_count": 26,
   "id": "bd9fe12b-af4a-481c-b471-aa40a5753aff",
   "metadata": {},
   "outputs": [],
   "source": [
    "import numpy as np \n",
    "def fun_2(x,y): \n",
    "    return 1-np.exp(-x**2-(y-2)**2)-2*np.exp(-x**2-(y+2)**2)\n",
    "def grad_f_2(x,y): #using the limit definition of a partial derivative to get the gradient of the function\n",
    "    grad_x = ((fun_2(x+h,y)-fun_2(x,y))/h)\n",
    "    grad_y = ((fun_2(x,y+h)-fun_2(x,y))/h)\n",
    "    return [grad_x, grad_y]\n",
    "# applying gradient to the following test cases: \n",
    "#(x0, y0) = (0, 1), α = 0.01, max iterations = 10000 (3)\n",
    "#(x0 , y0 ) = (0, −1), α = 0.01, max iterations = 10000 (4)\n",
    "gradient_descent(0,1,fun_2,grad_f_2, 0.01, 10000) #(3)\n",
    "\n",
    "gradient_descent(0,-1,fun_2,grad_f_2, 0.01, 10000) #(4)\n",
    "\n",
    "from mpl_toolkits import mplot3d #for 3D plots\n",
    "import matplotlib.pyplot as plt #usual matplotlib\n",
    "%matplotlib widget\n",
    "X=np.linspace(-5,5,100)\n",
    "Y=np.linspace(-5,5,100)\n",
    "x,y=np.meshgrid(X,Y)\n",
    "z = fun_2(x,y) "
   ]
  },
  {
   "cell_type": "code",
   "execution_count": 21,
   "id": "1307ad2f-827f-473b-8d0e-e309844d91dc",
   "metadata": {},
   "outputs": [
    {
     "ename": "NameError",
     "evalue": "name 'fun_2' is not defined",
     "output_type": "error",
     "traceback": [
      "\u001b[0;31m---------------------------------------------------------------------------\u001b[0m",
      "\u001b[0;31mNameError\u001b[0m                                 Traceback (most recent call last)",
      "Cell \u001b[0;32mIn[21], line 8\u001b[0m\n\u001b[1;32m      6\u001b[0m Y\u001b[38;5;241m=\u001b[39mnp\u001b[38;5;241m.\u001b[39mlinspace(\u001b[38;5;241m-\u001b[39m\u001b[38;5;241m5\u001b[39m,\u001b[38;5;241m5\u001b[39m,\u001b[38;5;241m100\u001b[39m)\n\u001b[1;32m      7\u001b[0m x,y\u001b[38;5;241m=\u001b[39mnp\u001b[38;5;241m.\u001b[39mmeshgrid(X,Y)\n\u001b[0;32m----> 8\u001b[0m z\u001b[38;5;241m=\u001b[39m \u001b[43mfun_2\u001b[49m(x,y) \n",
      "\u001b[0;31mNameError\u001b[0m: name 'fun_2' is not defined"
     ]
    }
   ],
   "source": []
  },
  {
   "cell_type": "code",
   "execution_count": null,
   "id": "45d261ae-f319-4137-9337-ab1ba85bf4d9",
   "metadata": {},
   "outputs": [],
   "source": []
  }
 ],
 "metadata": {
  "kernelspec": {
   "display_name": "Python 3 (ipykernel)",
   "language": "python",
   "name": "python3"
  },
  "language_info": {
   "codemirror_mode": {
    "name": "ipython",
    "version": 3
   },
   "file_extension": ".py",
   "mimetype": "text/x-python",
   "name": "python",
   "nbconvert_exporter": "python",
   "pygments_lexer": "ipython3",
   "version": "3.12.8"
  }
 },
 "nbformat": 4,
 "nbformat_minor": 5
}
