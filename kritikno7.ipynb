{
 "cells": [
  {
   "cell_type": "code",
   "execution_count": 5,
   "id": "7f9b5c08-5509-41b3-a023-4d369bd50b11",
   "metadata": {},
   "outputs": [
    {
     "name": "stdout",
     "output_type": "stream",
     "text": [
      "mean = 82.382\n",
      "standard deviation = 5.195338666666668\n"
     ]
    }
   ],
   "source": [
    "hotdog = [92.64,79.00,84.79,97.41,93.68,65.23,84.50,73.49,73.97,79.11]\n",
    "total = 0 \n",
    "\n",
    "for num in hotdog: \n",
    "    total += num \n",
    "mean = total/len(hotdog)\n",
    "#standard deviation \n",
    "squared = 0 \n",
    "for num in hotdog: \n",
    "    squared += (num - mean)**2\n",
    "stdev = (squared/(len(hotdog)-1))*0.05 \n",
    "\n",
    "print (\"mean =\", mean) \n",
    "print (\"standard deviation =\", stdev)\n"
   ]
  },
  {
   "cell_type": "code",
   "execution_count": null,
   "id": "13434f87-cd40-487b-b6de-535fb80abffd",
   "metadata": {},
   "outputs": [],
   "source": []
  },
  {
   "cell_type": "code",
   "execution_count": 8,
   "id": "6531f1b7-9631-4fb1-ad03-70ab444f50d3",
   "metadata": {},
   "outputs": [
    {
     "name": "stdout",
     "output_type": "stream",
     "text": [
      "t-value = 4.4932458084278215\n"
     ]
    }
   ],
   "source": [
    "nationavg = 75 \n",
    "t_value = (mean - nationavg)/(stdev/len(hotdog)**0.5)\n",
    "print (\"t-value =\", t_value)"
   ]
  },
  {
   "cell_type": "code",
   "execution_count": 9,
   "id": "1a0ab750-0bf4-4b20-88ea-e480e2e64c41",
   "metadata": {},
   "outputs": [
    {
     "name": "stdout",
     "output_type": "stream",
     "text": [
      "t*value = 2.2621571628540993\n"
     ]
    }
   ],
   "source": [
    "import numpy as np \n",
    "import scipy.stats as stats \n",
    "def find_t_star(prob, nu, x_start=0, x_end=20, num_points=10000): \n",
    "    #define the x values \n",
    "    x = np.linspace(x_start, x_end, num_points) \n",
    "# density functions \n",
    "    y = t_distribution_pdf(x,nu) \n",
    "# integration \n",
    "    cdf = np.cumsum(y) * (x[1] - x[0])\n",
    "# find t value \n",
    "    targer_half_prob = prob/2 \n",
    "    index = np.where(cdf >= target_half_prob) [0][0] \n",
    "    return x[index]\n",
    "\n",
    "df = len(hotdog) - 1 \n",
    "t_star = stats.t.ppf (0.975, df) \n",
    "print(\"t*value =\", t_star) "
   ]
  },
  {
   "cell_type": "code",
   "execution_count": 12,
   "id": "6ebfd132-df42-49af-b06b-4ebc9e3992c4",
   "metadata": {},
   "outputs": [
    {
     "name": "stdout",
     "output_type": "stream",
     "text": [
      "strong evident that μ 75.\n",
      "The new teaching technique = good (higher scores).\n"
     ]
    }
   ],
   "source": [
    "def in_range (t0, t_star): \n",
    "    \"\"\" Returns True if t0 is within [-t*, t*], otherwise False.\"\"\" \n",
    "    return abs(t0) <= t_star\n",
    "result = in_range(t_value, t_star) \n",
    "\n",
    "if result: \n",
    "    print(\"no strong evidence that μ 75.\") \n",
    "else: \n",
    "    print(\"strong evident that μ 75.\")\n",
    "if t_value > 0: \n",
    "    print(\"The new teaching technique = good (higher scores).\")\n",
    "elif t_value < 0: \n",
    "    print(\"The new teaching technique = bad (lower scores).\") \n",
    "else: \n",
    "    print(\"No impact\") "
   ]
  },
  {
   "cell_type": "code",
   "execution_count": null,
   "id": "0fe703f2-e86e-491e-b6bc-d179f84c9bd5",
   "metadata": {},
   "outputs": [],
   "source": []
  }
 ],
 "metadata": {
  "kernelspec": {
   "display_name": "Python 3 (ipykernel)",
   "language": "python",
   "name": "python3"
  },
  "language_info": {
   "codemirror_mode": {
    "name": "ipython",
    "version": 3
   },
   "file_extension": ".py",
   "mimetype": "text/x-python",
   "name": "python",
   "nbconvert_exporter": "python",
   "pygments_lexer": "ipython3",
   "version": "3.12.8"
  }
 },
 "nbformat": 4,
 "nbformat_minor": 5
}
